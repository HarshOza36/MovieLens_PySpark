{
 "cells": [
  {
   "cell_type": "markdown",
   "metadata": {},
   "source": [
    "# MOVIELENS 20 M - Data Processing and Analysis"
   ]
  },
  {
   "cell_type": "markdown",
   "metadata": {},
   "source": [
    "### To Check if Spark is active"
   ]
  },
  {
   "cell_type": "code",
   "execution_count": 1,
   "metadata": {
    "scrolled": true
   },
   "outputs": [
    {
     "data": {
      "text/html": [
       "\n",
       "        <div>\n",
       "            <p><b>SparkContext</b></p>\n",
       "\n",
       "            <p><a href=\"http://ARCEUS.mshome.net:4040\">Spark UI</a></p>\n",
       "\n",
       "            <dl>\n",
       "              <dt>Version</dt>\n",
       "                <dd><code>v3.0.1</code></dd>\n",
       "              <dt>Master</dt>\n",
       "                <dd><code>local[*]</code></dd>\n",
       "              <dt>AppName</dt>\n",
       "                <dd><code>PySparkShell</code></dd>\n",
       "            </dl>\n",
       "        </div>\n",
       "        "
      ],
      "text/plain": [
       "<SparkContext master=local[*] appName=PySparkShell>"
      ]
     },
     "execution_count": 1,
     "metadata": {},
     "output_type": "execute_result"
    }
   ],
   "source": [
    "sc"
   ]
  },
  {
   "cell_type": "markdown",
   "metadata": {},
   "source": [
    "### Importing the required libraries"
   ]
  },
  {
   "cell_type": "code",
   "execution_count": 2,
   "metadata": {},
   "outputs": [],
   "source": [
    "import os\n",
    "import pyspark\n",
    "from pyspark import SparkConf\n",
    "from pyspark.sql import SparkSession\n",
    "from pyspark.ml.linalg import Vectors\n",
    "from pyspark.ml.stat import Correlation\n",
    "from pyspark.ml.linalg import Vectors\n",
    "from pyspark.ml.feature import VectorAssembler\n",
    "import pandas as pd\n",
    "spark = SparkSession.builder.master(\"local\").config(conf=SparkConf()).getOrCreate()"
   ]
  },
  {
   "cell_type": "markdown",
   "metadata": {},
   "source": [
    "### Converting the data into Spark DataFrames"
   ]
  },
  {
   "cell_type": "code",
   "execution_count": 3,
   "metadata": {},
   "outputs": [],
   "source": [
    "movie_df=spark.read.csv('movie.csv',inferSchema=True,header=True)\n",
    "link_df=spark.read.csv('link.csv',inferSchema=True,header=True)\n",
    "rating_df=spark.read.csv('rating.csv',inferSchema=True,header=True)\n",
    "tag_df=spark.read.csv('tag.csv',inferSchema=True,header=True)"
   ]
  },
  {
   "cell_type": "code",
   "execution_count": 4,
   "metadata": {},
   "outputs": [
    {
     "name": "stdout",
     "output_type": "stream",
     "text": [
      "+-------+--------------------+--------------------+\n",
      "|movieId|               title|              genres|\n",
      "+-------+--------------------+--------------------+\n",
      "|      1|    Toy Story (1995)|Adventure|Animati...|\n",
      "|      2|      Jumanji (1995)|Adventure|Childre...|\n",
      "|      3|Grumpier Old Men ...|      Comedy|Romance|\n",
      "|      4|Waiting to Exhale...|Comedy|Drama|Romance|\n",
      "|      5|Father of the Bri...|              Comedy|\n",
      "|      6|         Heat (1995)|Action|Crime|Thri...|\n",
      "|      7|      Sabrina (1995)|      Comedy|Romance|\n",
      "|      8| Tom and Huck (1995)|  Adventure|Children|\n",
      "|      9| Sudden Death (1995)|              Action|\n",
      "|     10|    GoldenEye (1995)|Action|Adventure|...|\n",
      "|     11|American Presiden...|Comedy|Drama|Romance|\n",
      "|     12|Dracula: Dead and...|       Comedy|Horror|\n",
      "|     13|        Balto (1995)|Adventure|Animati...|\n",
      "|     14|        Nixon (1995)|               Drama|\n",
      "|     15|Cutthroat Island ...|Action|Adventure|...|\n",
      "|     16|       Casino (1995)|         Crime|Drama|\n",
      "|     17|Sense and Sensibi...|       Drama|Romance|\n",
      "|     18|   Four Rooms (1995)|              Comedy|\n",
      "|     19|Ace Ventura: When...|              Comedy|\n",
      "|     20|  Money Train (1995)|Action|Comedy|Cri...|\n",
      "+-------+--------------------+--------------------+\n",
      "only showing top 20 rows\n",
      "\n"
     ]
    }
   ],
   "source": [
    "# Movies dataframe\n",
    "movie_df.show()"
   ]
  },
  {
   "cell_type": "code",
   "execution_count": 5,
   "metadata": {},
   "outputs": [
    {
     "name": "stdout",
     "output_type": "stream",
     "text": [
      "+-------+------+------+\n",
      "|movieId|imdbId|tmdbId|\n",
      "+-------+------+------+\n",
      "|      1|114709|   862|\n",
      "|      2|113497|  8844|\n",
      "|      3|113228| 15602|\n",
      "|      4|114885| 31357|\n",
      "|      5|113041| 11862|\n",
      "|      6|113277|   949|\n",
      "|      7|114319| 11860|\n",
      "|      8|112302| 45325|\n",
      "|      9|114576|  9091|\n",
      "|     10|113189|   710|\n",
      "|     11|112346|  9087|\n",
      "|     12|112896| 12110|\n",
      "|     13|112453| 21032|\n",
      "|     14|113987| 10858|\n",
      "|     15|112760|  1408|\n",
      "|     16|112641|   524|\n",
      "|     17|114388|  4584|\n",
      "|     18|113101|     5|\n",
      "|     19|112281|  9273|\n",
      "|     20|113845| 11517|\n",
      "+-------+------+------+\n",
      "only showing top 20 rows\n",
      "\n"
     ]
    }
   ],
   "source": [
    "# Link dataframe\n",
    "link_df.show()"
   ]
  },
  {
   "cell_type": "code",
   "execution_count": 6,
   "metadata": {},
   "outputs": [
    {
     "name": "stdout",
     "output_type": "stream",
     "text": [
      "+------+-------+-----------------+-------------------+\n",
      "|userId|movieId|              tag|          timestamp|\n",
      "+------+-------+-----------------+-------------------+\n",
      "|    18|   4141|      Mark Waters|2009-04-24 18:19:40|\n",
      "|    65|    208|        dark hero|2013-05-10 01:41:18|\n",
      "|    65|    353|        dark hero|2013-05-10 01:41:19|\n",
      "|    65|    521|    noir thriller|2013-05-10 01:39:43|\n",
      "|    65|    592|        dark hero|2013-05-10 01:41:18|\n",
      "|    65|    668|        bollywood|2013-05-10 01:37:56|\n",
      "|    65|    898| screwball comedy|2013-05-10 01:42:40|\n",
      "|    65|   1248|    noir thriller|2013-05-10 01:39:43|\n",
      "|    65|   1391|             mars|2013-05-10 01:40:55|\n",
      "|    65|   1617|         neo-noir|2013-05-10 01:43:37|\n",
      "|    65|   1694|            jesus|2013-05-10 01:38:45|\n",
      "|    65|   1783|    noir thriller|2013-05-10 01:39:43|\n",
      "|    65|   2022|            jesus|2013-05-10 01:38:45|\n",
      "|    65|   2193|           dragon|2013-05-10 02:01:54|\n",
      "|    65|   2353|conspiracy theory|2013-05-10 02:01:06|\n",
      "|    65|   2662|             mars|2013-05-10 01:40:55|\n",
      "|    65|   2726|    noir thriller|2013-05-10 01:39:43|\n",
      "|    65|   2840|            jesus|2013-05-10 01:38:45|\n",
      "|    65|   3052|            jesus|2013-05-10 01:38:46|\n",
      "|    65|   5135|        bollywood|2013-05-10 01:37:56|\n",
      "+------+-------+-----------------+-------------------+\n",
      "only showing top 20 rows\n",
      "\n"
     ]
    }
   ],
   "source": [
    "#Tags Dataframe\n",
    "tag_df.show()"
   ]
  },
  {
   "cell_type": "code",
   "execution_count": 7,
   "metadata": {},
   "outputs": [
    {
     "name": "stdout",
     "output_type": "stream",
     "text": [
      "+------+-------+------+-------------------+\n",
      "|userId|movieId|rating|          timestamp|\n",
      "+------+-------+------+-------------------+\n",
      "|     1|      2|   3.5|2005-04-02 23:53:47|\n",
      "|     1|     29|   3.5|2005-04-02 23:31:16|\n",
      "|     1|     32|   3.5|2005-04-02 23:33:39|\n",
      "|     1|     47|   3.5|2005-04-02 23:32:07|\n",
      "|     1|     50|   3.5|2005-04-02 23:29:40|\n",
      "|     1|    112|   3.5|2004-09-10 03:09:00|\n",
      "|     1|    151|   4.0|2004-09-10 03:08:54|\n",
      "|     1|    223|   4.0|2005-04-02 23:46:13|\n",
      "|     1|    253|   4.0|2005-04-02 23:35:40|\n",
      "|     1|    260|   4.0|2005-04-02 23:33:46|\n",
      "|     1|    293|   4.0|2005-04-02 23:31:43|\n",
      "|     1|    296|   4.0|2005-04-02 23:32:47|\n",
      "|     1|    318|   4.0|2005-04-02 23:33:18|\n",
      "|     1|    337|   3.5|2004-09-10 03:08:29|\n",
      "|     1|    367|   3.5|2005-04-02 23:53:00|\n",
      "|     1|    541|   4.0|2005-04-02 23:30:03|\n",
      "|     1|    589|   3.5|2005-04-02 23:45:57|\n",
      "|     1|    593|   3.5|2005-04-02 23:31:01|\n",
      "|     1|    653|   3.0|2004-09-10 03:08:11|\n",
      "|     1|    919|   3.5|2004-09-10 03:07:01|\n",
      "+------+-------+------+-------------------+\n",
      "only showing top 20 rows\n",
      "\n"
     ]
    }
   ],
   "source": [
    "#Ratings Dataframe\n",
    "rating_df.show()"
   ]
  },
  {
   "cell_type": "markdown",
   "metadata": {},
   "source": [
    "### Correlation of the data"
   ]
  },
  {
   "cell_type": "code",
   "execution_count": 8,
   "metadata": {},
   "outputs": [],
   "source": [
    "def correlation_matrix(df, corr_columns, method='pearson'):\n",
    "    vector_col = \"corr_features\"\n",
    "    assembler = VectorAssembler(inputCols=corr_columns, outputCol=vector_col)\n",
    "    df_vector = assembler.transform(df).select(vector_col)\n",
    "    matrix = Correlation.corr(df_vector, vector_col, method)\n",
    "\n",
    "    result = matrix.collect()[0][\"pearson({})\".format(vector_col)].values\n",
    "    return pd.DataFrame(result.reshape(-1, len(corr_columns)), columns=corr_columns, index=corr_columns)"
   ]
  },
  {
   "cell_type": "code",
   "execution_count": 9,
   "metadata": {},
   "outputs": [
    {
     "data": {
      "text/html": [
       "<div>\n",
       "<style scoped>\n",
       "    .dataframe tbody tr th:only-of-type {\n",
       "        vertical-align: middle;\n",
       "    }\n",
       "\n",
       "    .dataframe tbody tr th {\n",
       "        vertical-align: top;\n",
       "    }\n",
       "\n",
       "    .dataframe thead th {\n",
       "        text-align: right;\n",
       "    }\n",
       "</style>\n",
       "<table border=\"1\" class=\"dataframe\">\n",
       "  <thead>\n",
       "    <tr style=\"text-align: right;\">\n",
       "      <th></th>\n",
       "      <th>userId</th>\n",
       "      <th>movieId</th>\n",
       "      <th>rating</th>\n",
       "    </tr>\n",
       "  </thead>\n",
       "  <tbody>\n",
       "    <tr>\n",
       "      <th>userId</th>\n",
       "      <td>1.000000</td>\n",
       "      <td>-0.000850</td>\n",
       "      <td>0.001175</td>\n",
       "    </tr>\n",
       "    <tr>\n",
       "      <th>movieId</th>\n",
       "      <td>-0.000850</td>\n",
       "      <td>1.000000</td>\n",
       "      <td>0.002606</td>\n",
       "    </tr>\n",
       "    <tr>\n",
       "      <th>rating</th>\n",
       "      <td>0.001175</td>\n",
       "      <td>0.002606</td>\n",
       "      <td>1.000000</td>\n",
       "    </tr>\n",
       "  </tbody>\n",
       "</table>\n",
       "</div>"
      ],
      "text/plain": [
       "           userId   movieId    rating\n",
       "userId   1.000000 -0.000850  0.001175\n",
       "movieId -0.000850  1.000000  0.002606\n",
       "rating   0.001175  0.002606  1.000000"
      ]
     },
     "execution_count": 9,
     "metadata": {},
     "output_type": "execute_result"
    }
   ],
   "source": [
    "# Correlation of ratings dataset\n",
    "correlation_matrix(rating_df,['userId','movieId','rating'])"
   ]
  },
  {
   "cell_type": "code",
   "execution_count": 10,
   "metadata": {},
   "outputs": [
    {
     "data": {
      "text/html": [
       "<div>\n",
       "<style scoped>\n",
       "    .dataframe tbody tr th:only-of-type {\n",
       "        vertical-align: middle;\n",
       "    }\n",
       "\n",
       "    .dataframe tbody tr th {\n",
       "        vertical-align: top;\n",
       "    }\n",
       "\n",
       "    .dataframe thead th {\n",
       "        text-align: right;\n",
       "    }\n",
       "</style>\n",
       "<table border=\"1\" class=\"dataframe\">\n",
       "  <thead>\n",
       "    <tr style=\"text-align: right;\">\n",
       "      <th></th>\n",
       "      <th>userId</th>\n",
       "      <th>movieId</th>\n",
       "    </tr>\n",
       "  </thead>\n",
       "  <tbody>\n",
       "    <tr>\n",
       "      <th>userId</th>\n",
       "      <td>1.000000</td>\n",
       "      <td>-0.006086</td>\n",
       "    </tr>\n",
       "    <tr>\n",
       "      <th>movieId</th>\n",
       "      <td>-0.006086</td>\n",
       "      <td>1.000000</td>\n",
       "    </tr>\n",
       "  </tbody>\n",
       "</table>\n",
       "</div>"
      ],
      "text/plain": [
       "           userId   movieId\n",
       "userId   1.000000 -0.006086\n",
       "movieId -0.006086  1.000000"
      ]
     },
     "execution_count": 10,
     "metadata": {},
     "output_type": "execute_result"
    }
   ],
   "source": [
    "# Correlation of Tags dataset\n",
    "correlation_matrix(tag_df,['userId','movieId'])"
   ]
  },
  {
   "cell_type": "markdown",
   "metadata": {},
   "source": [
    "### Extracting the year and the genres for all movies"
   ]
  },
  {
   "cell_type": "code",
   "execution_count": 11,
   "metadata": {},
   "outputs": [
    {
     "name": "stdout",
     "output_type": "stream",
     "text": [
      "+--------------------+--------------------+\n",
      "|               title|              genres|\n",
      "+--------------------+--------------------+\n",
      "|    Toy Story (1995)|Adventure|Animati...|\n",
      "|      Jumanji (1995)|Adventure|Childre...|\n",
      "|Grumpier Old Men ...|      Comedy|Romance|\n",
      "|Waiting to Exhale...|Comedy|Drama|Romance|\n",
      "|Father of the Bri...|              Comedy|\n",
      "|         Heat (1995)|Action|Crime|Thri...|\n",
      "|      Sabrina (1995)|      Comedy|Romance|\n",
      "| Tom and Huck (1995)|  Adventure|Children|\n",
      "| Sudden Death (1995)|              Action|\n",
      "|    GoldenEye (1995)|Action|Adventure|...|\n",
      "|American Presiden...|Comedy|Drama|Romance|\n",
      "|Dracula: Dead and...|       Comedy|Horror|\n",
      "|        Balto (1995)|Adventure|Animati...|\n",
      "|        Nixon (1995)|               Drama|\n",
      "|Cutthroat Island ...|Action|Adventure|...|\n",
      "|       Casino (1995)|         Crime|Drama|\n",
      "|Sense and Sensibi...|       Drama|Romance|\n",
      "|   Four Rooms (1995)|              Comedy|\n",
      "|Ace Ventura: When...|              Comedy|\n",
      "|  Money Train (1995)|Action|Comedy|Cri...|\n",
      "+--------------------+--------------------+\n",
      "only showing top 20 rows\n",
      "\n"
     ]
    }
   ],
   "source": [
    "movie_df.select(\"title\",\"genres\").show()"
   ]
  },
  {
   "cell_type": "code",
   "execution_count": 12,
   "metadata": {},
   "outputs": [
    {
     "data": {
      "text/plain": [
       "['1995',\n",
       " '1995',\n",
       " '1995',\n",
       " '1995',\n",
       " '1995',\n",
       " '1995',\n",
       " '1995',\n",
       " '1995',\n",
       " '1995',\n",
       " '1995']"
      ]
     },
     "execution_count": 12,
     "metadata": {},
     "output_type": "execute_result"
    }
   ],
   "source": [
    "# Testing and normally extracting the year\n",
    "movie_df_title_yr = movie_df.select(\"title\").collect()\n",
    "final_yr = []\n",
    "for i in movie_df_title_yr:\n",
    "    final_yr.append(i[0][-5:-1])\n",
    "final_yr[0:10]\n"
   ]
  },
  {
   "cell_type": "code",
   "execution_count": 13,
   "metadata": {},
   "outputs": [
    {
     "name": "stdout",
     "output_type": "stream",
     "text": [
      "+-------+-----+--------------------+\n",
      "|movieId|title|              genres|\n",
      "+-------+-----+--------------------+\n",
      "|      1| 1995|Adventure|Animati...|\n",
      "|      2| 1995|Adventure|Childre...|\n",
      "|      3| 1995|      Comedy|Romance|\n",
      "|      4| 1995|Comedy|Drama|Romance|\n",
      "|      5| 1995|              Comedy|\n",
      "|      6| 1995|Action|Crime|Thri...|\n",
      "|      7| 1995|      Comedy|Romance|\n",
      "|      8| 1995|  Adventure|Children|\n",
      "|      9| 1995|              Action|\n",
      "|     10| 1995|Action|Adventure|...|\n",
      "|     11| 1995|Comedy|Drama|Romance|\n",
      "|     12| 1995|       Comedy|Horror|\n",
      "|     13| 1995|Adventure|Animati...|\n",
      "|     14| 1995|               Drama|\n",
      "|     15| 1995|Action|Adventure|...|\n",
      "|     16| 1995|         Crime|Drama|\n",
      "|     17| 1995|       Drama|Romance|\n",
      "|     18| 1995|              Comedy|\n",
      "|     19| 1995|              Comedy|\n",
      "|     20| 1995|Action|Comedy|Cri...|\n",
      "+-------+-----+--------------------+\n",
      "only showing top 20 rows\n",
      "\n"
     ]
    }
   ],
   "source": [
    "#Extracting the year in the title column and showing it with genre\n",
    "\n",
    "from pyspark.sql.functions import regexp_replace,col\n",
    "from pyspark.sql.functions import udf\n",
    "import re\n",
    "\n",
    "def years(s):\n",
    "    return s[-5:-1]\n",
    "\n",
    "yr_udf = udf(years)\n",
    "\n",
    "movie_df.withColumn(\"title\", yr_udf(\"title\")).show()"
   ]
  },
  {
   "cell_type": "markdown",
   "metadata": {},
   "source": [
    "# Spark-SQL Analysis"
   ]
  },
  {
   "cell_type": "markdown",
   "metadata": {},
   "source": [
    "## Creating Views for spark dataframes"
   ]
  },
  {
   "cell_type": "code",
   "execution_count": 14,
   "metadata": {},
   "outputs": [],
   "source": [
    "rating_df.createOrReplaceTempView(\"ratings\")\n",
    "movie_df.createOrReplaceTempView(\"movies\")\n",
    "tag_df.createOrReplaceTempView(\"tags\")\n",
    "link_df.createOrReplaceTempView(\"links\")\n",
    "# Movies with year separated from the title\n",
    "movie_df.withColumn(\"title\", yr_udf(\"title\")).createOrReplaceTempView(\"movies_year\")"
   ]
  },
  {
   "cell_type": "markdown",
   "metadata": {},
   "source": [
    "### Query 1: How many number of Movies are there for each rating? "
   ]
  },
  {
   "cell_type": "code",
   "execution_count": 15,
   "metadata": {
    "scrolled": false
   },
   "outputs": [
    {
     "name": "stdout",
     "output_type": "stream",
     "text": [
      "+------+------------+\n",
      "|rating|No_Of_Movies|\n",
      "+------+------------+\n",
      "|   5.0|     2898660|\n",
      "|   4.5|     1534824|\n",
      "|   4.0|     5561926|\n",
      "|   3.5|     2200156|\n",
      "|   3.0|     4291193|\n",
      "|   2.5|      883398|\n",
      "|   2.0|     1430997|\n",
      "|   1.5|      279252|\n",
      "|   1.0|      680732|\n",
      "|   0.5|      239125|\n",
      "+------+------------+\n",
      "\n"
     ]
    }
   ],
   "source": [
    "spark.sql(\"SELECT rating,COUNT(movieID) as No_Of_Movies FROM ratings GROUP BY rating ORDER BY rating DESC\").show()"
   ]
  },
  {
   "cell_type": "markdown",
   "metadata": {},
   "source": [
    "### Query 2: What are top 10 most rated movies?"
   ]
  },
  {
   "cell_type": "code",
   "execution_count": 16,
   "metadata": {
    "scrolled": true
   },
   "outputs": [
    {
     "name": "stdout",
     "output_type": "stream",
     "text": [
      "+--------------------+-------+------+\n",
      "|               title|movieID|rating|\n",
      "+--------------------+-------+------+\n",
      "| Blade Runner (1982)|    541|   5.0|\n",
      "|Amityville Horror...|   1327|   5.0|\n",
      "|Terminator 2: Jud...|    589|   5.0|\n",
      "|Jurassic Park (1993)|    480|   5.0|\n",
      "|2001: A Space Ody...|    924|   5.0|\n",
      "|Lord of the Rings...|   7153|   5.0|\n",
      "|Star Wars: Episod...|   1196|   5.0|\n",
      "|Mr. Holland's Opu...|     62|   5.0|\n",
      "|Star Wars: Episod...|   1210|   5.0|\n",
      "|Star Wars: Episod...|    260|   5.0|\n",
      "+--------------------+-------+------+\n",
      "\n"
     ]
    }
   ],
   "source": [
    "query = \"Select m.title,r.movieID,r.rating from ratings r, movies m where m.movieID = r.movieID order by r.rating desc limit 10\"\n",
    "spark.sql(query).show()"
   ]
  },
  {
   "cell_type": "markdown",
   "metadata": {},
   "source": [
    "### Query 3: How many users have rated each movie?"
   ]
  },
  {
   "cell_type": "code",
   "execution_count": 17,
   "metadata": {},
   "outputs": [
    {
     "name": "stdout",
     "output_type": "stream",
     "text": [
      "+-------+-----------+\n",
      "|movieID|No_Of_Users|\n",
      "+-------+-----------+\n",
      "|    296|      67310|\n",
      "|    356|      66172|\n",
      "|    318|      63366|\n",
      "|    593|      63299|\n",
      "|    480|      59715|\n",
      "|    260|      54502|\n",
      "|    110|      53769|\n",
      "|    589|      52244|\n",
      "|   2571|      51334|\n",
      "|    527|      50054|\n",
      "|      1|      49695|\n",
      "|    457|      49581|\n",
      "|    150|      47777|\n",
      "|    780|      47048|\n",
      "|     50|      47006|\n",
      "|   1210|      46839|\n",
      "|    592|      46054|\n",
      "|   1196|      45313|\n",
      "|   2858|      44987|\n",
      "|     32|      44980|\n",
      "+-------+-----------+\n",
      "only showing top 20 rows\n",
      "\n"
     ]
    }
   ],
   "source": [
    "spark.sql(\"SELECT movieID, COUNT(userID) as No_Of_Users FROM ratings GROUP BY movieID ORDER BY COUNT(userID) DESC\").show()"
   ]
  },
  {
   "cell_type": "markdown",
   "metadata": {},
   "source": [
    "### Query 4: What is the Total Rating for each movie? "
   ]
  },
  {
   "cell_type": "code",
   "execution_count": 18,
   "metadata": {
    "scrolled": true
   },
   "outputs": [
    {
     "name": "stdout",
     "output_type": "stream",
     "text": [
      "+-------+------------+\n",
      "|movieID|Total_Rating|\n",
      "+-------+------------+\n",
      "|      1|    194866.0|\n",
      "|      2|     71444.0|\n",
      "|      3|     40128.5|\n",
      "|      4|      7886.0|\n",
      "|      5|     37268.5|\n",
      "|      6|     91651.0|\n",
      "|      7|     43633.0|\n",
      "|      8|      4446.0|\n",
      "|      9|     11899.5|\n",
      "|     10|     99488.0|\n",
      "|     11|     66613.0|\n",
      "|     12|     10073.0|\n",
      "|     13|      4781.0|\n",
      "|     14|     20668.0|\n",
      "|     15|      7921.0|\n",
      "|     16|     65879.0|\n",
      "|     17|     82018.5|\n",
      "|     18|     17553.0|\n",
      "|     19|     54594.0|\n",
      "|     20|     11765.0|\n",
      "+-------+------------+\n",
      "only showing top 20 rows\n",
      "\n"
     ]
    }
   ],
   "source": [
    "query = 'SELECT movieID, SUM(rating) as Total_Rating FROM ratings GROUP BY movieID ORDER BY movieID'\n",
    "spark.sql(query).show()"
   ]
  },
  {
   "cell_type": "markdown",
   "metadata": {},
   "source": [
    "### Query 5: What is the Average Rating for each movie?"
   ]
  },
  {
   "cell_type": "code",
   "execution_count": 19,
   "metadata": {
    "scrolled": true
   },
   "outputs": [
    {
     "name": "stdout",
     "output_type": "stream",
     "text": [
      "+-------+--------------+\n",
      "|movieID|Average_Rating|\n",
      "+-------+--------------+\n",
      "|      1|          3.92|\n",
      "|      2|          3.21|\n",
      "|      3|          3.15|\n",
      "|      4|          2.86|\n",
      "|      5|          3.06|\n",
      "|      6|          3.83|\n",
      "|      7|          3.37|\n",
      "|      8|          3.14|\n",
      "|      9|           3.0|\n",
      "|     10|          3.43|\n",
      "|     11|          3.67|\n",
      "|     12|          2.62|\n",
      "|     13|          3.27|\n",
      "|     14|          3.43|\n",
      "|     15|          2.72|\n",
      "|     16|          3.79|\n",
      "|     17|          3.97|\n",
      "|     18|          3.37|\n",
      "|     19|          2.61|\n",
      "|     20|          2.88|\n",
      "+-------+--------------+\n",
      "only showing top 20 rows\n",
      "\n"
     ]
    }
   ],
   "source": [
    "query = 'SELECT movieID, ROUND(AVG(rating),2) as Average_Rating FROM ratings GROUP BY movieID ORDER BY movieID'\n",
    "spark.sql(query).show()"
   ]
  },
  {
   "cell_type": "markdown",
   "metadata": {},
   "source": [
    "### Query 6: How many movies are there for each genre?"
   ]
  },
  {
   "cell_type": "code",
   "execution_count": 20,
   "metadata": {},
   "outputs": [
    {
     "name": "stdout",
     "output_type": "stream",
     "text": [
      "+--------------------+------------+\n",
      "|              genres|Total_Movies|\n",
      "+--------------------+------------+\n",
      "|               Drama|        4520|\n",
      "|              Comedy|        2294|\n",
      "|         Documentary|        1942|\n",
      "|        Comedy|Drama|        1264|\n",
      "|       Drama|Romance|        1075|\n",
      "|      Comedy|Romance|         757|\n",
      "|Comedy|Drama|Romance|         605|\n",
      "|              Horror|         565|\n",
      "|         Crime|Drama|         448|\n",
      "|      Drama|Thriller|         426|\n",
      "|           Drama|War|         399|\n",
      "|     Horror|Thriller|         374|\n",
      "|Crime|Drama|Thriller|         304|\n",
      "|            Thriller|         268|\n",
      "|  (no genres listed)|         246|\n",
      "|             Western|         215|\n",
      "|        Action|Drama|         210|\n",
      "|        Comedy|Crime|         187|\n",
      "|              Action|         178|\n",
      "|       Comedy|Horror|         170|\n",
      "+--------------------+------------+\n",
      "only showing top 20 rows\n",
      "\n"
     ]
    }
   ],
   "source": [
    "spark.sql(\"Select genres, count(movieID) as Total_Movies from movies group by genres order by count(movieID) desc\").show()"
   ]
  },
  {
   "cell_type": "markdown",
   "metadata": {},
   "source": [
    "### Query 7: How many movies have been rated each year?"
   ]
  },
  {
   "cell_type": "code",
   "execution_count": 21,
   "metadata": {},
   "outputs": [
    {
     "name": "stdout",
     "output_type": "stream",
     "text": [
      "+----+------------+\n",
      "|Year|Total_Movies|\n",
      "+----+------------+\n",
      "|2009|        1113|\n",
      "|2012|        1021|\n",
      "|2011|        1014|\n",
      "|2013|        1010|\n",
      "|2008|         978|\n",
      "|2010|         958|\n",
      "|2007|         900|\n",
      "|2006|         854|\n",
      "|2014|         740|\n",
      "|2005|         739|\n",
      "|2004|         706|\n",
      "|2002|         678|\n",
      "|2003|         655|\n",
      "|2001|         632|\n",
      "|2000|         613|\n",
      "|1998|         554|\n",
      "|1999|         542|\n",
      "|1997|         528|\n",
      "|1996|         509|\n",
      "|1995|         474|\n",
      "+----+------------+\n",
      "only showing top 20 rows\n",
      "\n"
     ]
    }
   ],
   "source": [
    "spark.sql(\"Select title as Year, count(movieID) as Total_Movies from movies_year group by title order by count(movieID) desc\").show()"
   ]
  },
  {
   "cell_type": "markdown",
   "metadata": {},
   "source": [
    "### Query 8: Which were the least rated movies in the year of 2005?"
   ]
  },
  {
   "cell_type": "code",
   "execution_count": 22,
   "metadata": {},
   "outputs": [
    {
     "name": "stdout",
     "output_type": "stream",
     "text": [
      "+--------------------+------+----+\n",
      "|               title|rating|Year|\n",
      "+--------------------+------+----+\n",
      "|Today You Die (2005)|   0.5|2005|\n",
      "|Strangers with Ca...|   0.5|2005|\n",
      "|       Cursed (2005)|   0.5|2005|\n",
      "|Leonard Cohen: I'...|   0.5|2005|\n",
      "|Pacifier, The (2005)|   0.5|2005|\n",
      "|Miss Congeniality...|   0.5|2005|\n",
      "|Day of the Dead 2...|   0.5|2005|\n",
      "|Proposition, The ...|   0.5|2005|\n",
      "|Bad News Bears (2...|   0.5|2005|\n",
      "|Time to Leave (2005)|   0.5|2005|\n",
      "|       Hostel (2005)|   0.5|2005|\n",
      "|  Match Point (2005)|   0.5|2005|\n",
      "|Star Wreck: In th...|   0.5|2005|\n",
      "|   Dirty Love (2005)|   0.5|2005|\n",
      "|On a Clear Day (2...|   0.5|2005|\n",
      "|God Who Wasn't Th...|   0.5|2005|\n",
      "|  Constantine (2005)|   0.5|2005|\n",
      "|Wayward Cloud, Th...|   0.5|2005|\n",
      "|  Keeping Mum (2005)|   0.5|2005|\n",
      "|Mr. & Mrs. Smith ...|   0.5|2005|\n",
      "+--------------------+------+----+\n",
      "only showing top 20 rows\n",
      "\n"
     ]
    }
   ],
   "source": [
    "query = \"Select distinct(m.title),r.rating,m1.title as Year from movies m, ratings r, movies_year as m1 where m.movieID = r.movieID and m.movieID = m1.movieID and r.movieID = m1.movieId and m1.title = '2005' order by r.rating\"\n",
    "spark.sql(query).show()"
   ]
  },
  {
   "cell_type": "markdown",
   "metadata": {},
   "source": [
    "### Query 9: What are the genres of the top 5 rated movies?"
   ]
  },
  {
   "cell_type": "code",
   "execution_count": 23,
   "metadata": {},
   "outputs": [
    {
     "name": "stdout",
     "output_type": "stream",
     "text": [
      "+--------------------+--------------------+------+\n",
      "|               title|              genres|rating|\n",
      "+--------------------+--------------------+------+\n",
      "|       Freaks (1932)|  Crime|Drama|Horror|   5.0|\n",
      "|Legends of the Fa...|Drama|Romance|War...|   5.0|\n",
      "|Mr. Holland's Opu...|               Drama|   5.0|\n",
      "|Lord of the Rings...|   Adventure|Fantasy|   5.0|\n",
      "|From Dusk Till Da...|Action|Comedy|Hor...|   5.0|\n",
      "+--------------------+--------------------+------+\n",
      "\n"
     ]
    }
   ],
   "source": [
    "query = \"Select m.title,m.genres,r.rating from ratings r, movies m where m.movieID = r.movieID order by r.rating desc limit 5\"\n",
    "spark.sql(query).show()"
   ]
  },
  {
   "cell_type": "markdown",
   "metadata": {},
   "source": [
    "### Query 10: Which are the top rated by the users Sci-fi movies?"
   ]
  },
  {
   "cell_type": "code",
   "execution_count": 24,
   "metadata": {},
   "outputs": [
    {
     "name": "stdout",
     "output_type": "stream",
     "text": [
      "+--------------------+--------------------+------+\n",
      "|               title|         Genre_SCIFI|rating|\n",
      "+--------------------+--------------------+------+\n",
      "|Ghostbusters (a.k...|Action|Comedy|Sci-Fi|   5.0|\n",
      "|Jurassic Park (1993)|Action|Adventure|...|   5.0|\n",
      "| Donnie Darko (2001)|Drama|Mystery|Sci...|   5.0|\n",
      "|Independence Day ...|Action|Adventure|...|   5.0|\n",
      "|        Signs (2002)|Horror|Sci-Fi|Thr...|   5.0|\n",
      "| Blade Runner (1982)|Action|Sci-Fi|Thr...|   5.0|\n",
      "| Dreamcatcher (2003)|Drama|Horror|Sci-...|   5.0|\n",
      "|City of Lost Chil...|Adventure|Drama|F...|   5.0|\n",
      "|Interstate 60 (2002)|Adventure|Comedy|...|   5.0|\n",
      "|Star Wars: Episod...|Action|Adventure|...|   5.0|\n",
      "|The Butterfly Eff...|Drama|Sci-Fi|Thri...|   5.0|\n",
      "|        Alien (1979)|       Horror|Sci-Fi|   5.0|\n",
      "|Eternal Sunshine ...|Drama|Romance|Sci-Fi|   5.0|\n",
      "|Truman Show, The ...| Comedy|Drama|Sci-Fi|   5.0|\n",
      "|Battlestar Galact...|    Drama|Sci-Fi|War|   5.0|\n",
      "|Terminator 2: Jud...|       Action|Sci-Fi|   5.0|\n",
      "|     Serenity (2005)|Action|Adventure|...|   5.0|\n",
      "|Man from Earth, T...|        Drama|Sci-Fi|   5.0|\n",
      "|  Cloverfield (2008)|Action|Mystery|Sc...|   5.0|\n",
      "|Star Wars: Episod...|Action|Adventure|...|   5.0|\n",
      "+--------------------+--------------------+------+\n",
      "only showing top 20 rows\n",
      "\n"
     ]
    }
   ],
   "source": [
    "query = \"Select m.title,m.genres as Genre_SCIFI,r.rating from movies m,ratings r where genres Like '%Sci-Fi%' and m.movieID = r.movieID order by r.rating desc\"\n",
    "spark.sql(query).show()"
   ]
  },
  {
   "cell_type": "markdown",
   "metadata": {},
   "source": [
    "### Query 11: Which are the Worst Comedy movies rated by the users in the year 2012?"
   ]
  },
  {
   "cell_type": "code",
   "execution_count": 25,
   "metadata": {},
   "outputs": [
    {
     "name": "stdout",
     "output_type": "stream",
     "text": [
      "+--------------------+----+--------------------+------+\n",
      "|               title|Year|        Genre_Comedy|rating|\n",
      "+--------------------+----+--------------------+------+\n",
      "|Thanks for Sharin...|2012|        Comedy|Drama|   0.5|\n",
      "|John Mulaney: New...|2012|              Comedy|   0.5|\n",
      "|Home Alone: The H...|2012|Children|Comedy|C...|   0.5|\n",
      "|Much Ado About No...|2012|Comedy|Drama|Romance|   0.5|\n",
      "|21 Jump Street (2...|2012| Action|Comedy|Crime|   0.5|\n",
      "|Excuse Me for Liv...|2012|      Comedy|Romance|   0.5|\n",
      "| Bachelorette (2012)|2012|              Comedy|   0.5|\n",
      "|        Vamps (2012)|2012|Comedy|Horror|Rom...|   0.5|\n",
      "| Rock of Ages (2012)|2012|Comedy|Drama|Musi...|   0.5|\n",
      "|Christmas Story 2...|2012|     Children|Comedy|   0.5|\n",
      "|3, 2, 1... Franki...|2012|              Comedy|   0.5|\n",
      "|Five-Year Engagem...|2012|      Comedy|Romance|   0.5|\n",
      "|2-Headed Shark At...|2012|       Comedy|Horror|   0.5|\n",
      "| Tai Chi Hero (2012)|2012|Action|Comedy|Dra...|   0.5|\n",
      "|Parental Guidance...|2012|              Comedy|   0.5|\n",
      "|Casa de mi Padre ...|2012|              Comedy|   0.5|\n",
      "|Bill Burr: You Pe...|2012|              Comedy|   0.5|\n",
      "|Silver Linings Pl...|2012|        Comedy|Drama|   0.5|\n",
      "|Mac & Devin Go to...|2012|              Comedy|   0.5|\n",
      "|   Frances Ha (2012)|2012|        Comedy|Drama|   0.5|\n",
      "+--------------------+----+--------------------+------+\n",
      "only showing top 20 rows\n",
      "\n"
     ]
    }
   ],
   "source": [
    "query = \"Select distinct(m.title),m1.title as Year,m.genres as Genre_Comedy,r.rating from movies m, ratings r,movies_year as m1 where m.movieID = r.movieID and m.movieID = m1.movieID and r.movieID = m1.movieId and m.genres Like '%Comedy%' and m1.title = '2012' order by r.rating\"\n",
    "spark.sql(query).show()"
   ]
  }
 ],
 "metadata": {
  "kernelspec": {
   "display_name": "Python 3",
   "language": "python",
   "name": "python3"
  },
  "language_info": {
   "codemirror_mode": {
    "name": "ipython",
    "version": 3
   },
   "file_extension": ".py",
   "mimetype": "text/x-python",
   "name": "python",
   "nbconvert_exporter": "python",
   "pygments_lexer": "ipython3",
   "version": "3.6.6"
  }
 },
 "nbformat": 4,
 "nbformat_minor": 2
}
