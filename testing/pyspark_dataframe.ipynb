{
 "cells": [
  {
   "cell_type": "code",
   "execution_count": 1,
   "metadata": {},
   "outputs": [
    {
     "data": {
      "text/html": [
       "\n",
       "        <div>\n",
       "            <p><b>SparkContext</b></p>\n",
       "\n",
       "            <p><a href=\"http://192.168.0.6:4041\">Spark UI</a></p>\n",
       "\n",
       "            <dl>\n",
       "              <dt>Version</dt>\n",
       "                <dd><code>v3.0.0-preview2</code></dd>\n",
       "              <dt>Master</dt>\n",
       "                <dd><code>local[*]</code></dd>\n",
       "              <dt>AppName</dt>\n",
       "                <dd><code>PySparkShell</code></dd>\n",
       "            </dl>\n",
       "        </div>\n",
       "        "
      ],
      "text/plain": [
       "<SparkContext master=local[*] appName=PySparkShell>"
      ]
     },
     "execution_count": 1,
     "metadata": {},
     "output_type": "execute_result"
    }
   ],
   "source": [
    "sc"
   ]
  },
  {
   "cell_type": "code",
   "execution_count": 2,
   "metadata": {},
   "outputs": [],
   "source": [
    "df=spark.read.csv('salesrecord.csv',inferSchema=True,header=True)"
   ]
  },
  {
   "cell_type": "code",
   "execution_count": 3,
   "metadata": {},
   "outputs": [
    {
     "data": {
      "text/plain": [
       "DataFrame[Region: string, Country: string, Item Type: string, Sales Channel: string, Order Priority: string, Order Date: string, Order ID: int, Ship Date: string, Units Sold: int, Unit Price: double, Unit Cost: double, Total Revenue: double, Total Cost: double, Total Profit: double]"
      ]
     },
     "execution_count": 3,
     "metadata": {},
     "output_type": "execute_result"
    }
   ],
   "source": [
    "df"
   ]
  },
  {
   "cell_type": "code",
   "execution_count": 4,
   "metadata": {},
   "outputs": [
    {
     "name": "stdout",
     "output_type": "stream",
     "text": [
      "+--------------------+----------------+---------------+-------------+--------------+----------+---------+----------+----------+----------+---------+-------------+----------+------------+\n",
      "|              Region|         Country|      Item Type|Sales Channel|Order Priority|Order Date| Order ID| Ship Date|Units Sold|Unit Price|Unit Cost|Total Revenue|Total Cost|Total Profit|\n",
      "+--------------------+----------------+---------------+-------------+--------------+----------+---------+----------+----------+----------+---------+-------------+----------+------------+\n",
      "|  Sub-Saharan Africa|    South Africa|         Fruits|      Offline|             M| 7/27/2012|443368995| 7/28/2012|      1593|      9.33|     6.92|     14862.69|  11023.56|     3839.13|\n",
      "|Middle East and N...|         Morocco|        Clothes|       Online|             M| 9/14/2013|667593514|10/19/2013|      4611|    109.28|    35.84|    503890.08| 165258.24|   338631.84|\n",
      "|Australia and Oce...|Papua New Guinea|           Meat|      Offline|             M| 5/15/2015|940995585|  6/4/2015|       360|    421.89|   364.69|     151880.4|  131288.4|     20592.0|\n",
      "|  Sub-Saharan Africa|        Djibouti|        Clothes|      Offline|             H| 5/17/2017|880811536|  7/2/2017|       562|    109.28|    35.84|     61415.36|  20142.08|    41273.28|\n",
      "|              Europe|        Slovakia|      Beverages|      Offline|             L|10/26/2016|174590194| 12/4/2016|      3973|     47.45|    31.79|    188518.85| 126301.67|    62217.18|\n",
      "|                Asia|       Sri Lanka|         Fruits|       Online|             L| 11/7/2011|830192887|12/18/2011|      1379|      9.33|     6.92|     12866.07|   9542.68|     3323.39|\n",
      "|  Sub-Saharan Africa|     Seychelles |      Beverages|       Online|             M| 1/18/2013|425793445| 2/16/2013|       597|     47.45|    31.79|     28327.65|  18978.63|     9349.02|\n",
      "|  Sub-Saharan Africa|        Tanzania|      Beverages|       Online|             L|11/30/2016|659878194| 1/16/2017|      1476|     47.45|    31.79|      70036.2|  46922.04|    23114.16|\n",
      "|  Sub-Saharan Africa|           Ghana|Office Supplies|       Online|             L| 3/23/2017|601245963| 4/15/2017|       896|    651.21|   524.96|    583484.16| 470364.16|    113120.0|\n",
      "|  Sub-Saharan Africa|        Tanzania|      Cosmetics|      Offline|             L| 5/23/2016|739008080| 5/24/2016|      7768|     437.2|   263.33|    3396169.6|2045547.44|  1350622.16|\n",
      "|                Asia|          Taiwan|         Fruits|      Offline|             M|  2/9/2014|732588374| 2/23/2014|      8034|      9.33|     6.92|     74957.22|  55595.28|    19361.94|\n",
      "|Middle East and N...|         Algeria|      Cosmetics|       Online|             M| 2/18/2011|761723172| 2/24/2011|      9669|     437.2|   263.33|    4227286.8|2546137.77|  1681149.03|\n",
      "|                Asia|       Singapore|         Snacks|       Online|             C| 1/28/2013|176461303|  2/7/2013|      7676|    152.58|    97.44|   1171204.08| 747949.44|   423254.64|\n",
      "|Australia and Oce...|Papua New Guinea|        Clothes|      Offline|             L| 6/20/2011|647164094| 7/14/2011|      9092|    109.28|    35.84|    993573.76| 325857.28|   667716.48|\n",
      "|                Asia|         Vietnam|  Personal Care|       Online|             M|  4/4/2010|314505374|  5/6/2010|      7984|     81.73|    56.67|    652532.32| 452453.28|   200079.04|\n",
      "|  Sub-Saharan Africa|          Uganda|  Personal Care|       Online|             M| 6/19/2014|539471471| 7/21/2014|       451|     81.73|    56.67|     36860.23|  25558.17|    11302.06|\n",
      "|  Sub-Saharan Africa|        Zimbabwe|Office Supplies|      Offline|             C| 3/28/2011|953361213|  4/8/2011|      9623|    651.21|   524.96|   6266593.83|5051690.08|  1214903.75|\n",
      "|  Sub-Saharan Africa|        Ethiopia|      Cosmetics|       Online|             M|  7/7/2011|807785928| 7/25/2011|       662|     437.2|   263.33|     289426.4| 174324.46|   115101.94|\n",
      "|              Europe|          France|      Cosmetics|       Online|             M| 12/7/2015|324669444| 1/18/2016|      5758|     437.2|   263.33|    2517397.6|1516254.14|  1001143.46|\n",
      "|Central America a...|     The Bahamas|  Personal Care|       Online|             C| 1/19/2011|246248090| 2/21/2011|      9137|     81.73|    56.67|    746767.01| 517793.79|   228973.22|\n",
      "+--------------------+----------------+---------------+-------------+--------------+----------+---------+----------+----------+----------+---------+-------------+----------+------------+\n",
      "only showing top 20 rows\n",
      "\n"
     ]
    }
   ],
   "source": [
    "df.show()"
   ]
  },
  {
   "cell_type": "code",
   "execution_count": 5,
   "metadata": {},
   "outputs": [
    {
     "name": "stdout",
     "output_type": "stream",
     "text": [
      "root\n",
      " |-- Region: string (nullable = true)\n",
      " |-- Country: string (nullable = true)\n",
      " |-- Item Type: string (nullable = true)\n",
      " |-- Sales Channel: string (nullable = true)\n",
      " |-- Order Priority: string (nullable = true)\n",
      " |-- Order Date: string (nullable = true)\n",
      " |-- Order ID: integer (nullable = true)\n",
      " |-- Ship Date: string (nullable = true)\n",
      " |-- Units Sold: integer (nullable = true)\n",
      " |-- Unit Price: double (nullable = true)\n",
      " |-- Unit Cost: double (nullable = true)\n",
      " |-- Total Revenue: double (nullable = true)\n",
      " |-- Total Cost: double (nullable = true)\n",
      " |-- Total Profit: double (nullable = true)\n",
      "\n"
     ]
    }
   ],
   "source": [
    "df.printSchema()"
   ]
  },
  {
   "cell_type": "code",
   "execution_count": 6,
   "metadata": {},
   "outputs": [
    {
     "data": {
      "text/plain": [
       "500000"
      ]
     },
     "execution_count": 6,
     "metadata": {},
     "output_type": "execute_result"
    }
   ],
   "source": [
    "df.count()"
   ]
  },
  {
   "cell_type": "code",
   "execution_count": 7,
   "metadata": {},
   "outputs": [
    {
     "name": "stdout",
     "output_type": "stream",
     "text": [
      "Enter the Column Name:Total Profit\n",
      "+-------+------------------+\n",
      "|summary|      Total Profit|\n",
      "+-------+------------------+\n",
      "|  count|            500000|\n",
      "|   mean|392479.96458844113|\n",
      "| stddev|378751.68881151016|\n",
      "|    min|              2.41|\n",
      "|    max|         1738700.0|\n",
      "+-------+------------------+\n",
      "\n"
     ]
    }
   ],
   "source": [
    "#stastical properties of a column\n",
    "d=input(\"Enter the Column Name:\")\n",
    "df.describe(d).show()"
   ]
  },
  {
   "cell_type": "code",
   "execution_count": 8,
   "metadata": {},
   "outputs": [
    {
     "name": "stdout",
     "output_type": "stream",
     "text": [
      "Enter the Country:South Africa\n",
      "+------------------+------------+---------------+-------------+--------------+----------+---------+----------+----------+----------+---------+-------------+----------+------------+\n",
      "|            Region|     Country|      Item Type|Sales Channel|Order Priority|Order Date| Order ID| Ship Date|Units Sold|Unit Price|Unit Cost|Total Revenue|Total Cost|Total Profit|\n",
      "+------------------+------------+---------------+-------------+--------------+----------+---------+----------+----------+----------+---------+-------------+----------+------------+\n",
      "|Sub-Saharan Africa|South Africa|         Fruits|      Offline|             M| 7/27/2012|443368995| 7/28/2012|      1593|      9.33|     6.92|     14862.69|  11023.56|     3839.13|\n",
      "|Sub-Saharan Africa|South Africa|           Meat|      Offline|             M| 7/30/2013|458715951| 8/11/2013|      3098|    421.89|   364.69|   1307015.22|1129809.62|    177205.6|\n",
      "|Sub-Saharan Africa|South Africa|        Clothes|      Offline|             M| 6/25/2010|284995067| 7/24/2010|      5228|    109.28|    35.84|    571315.84| 187371.52|   383944.32|\n",
      "|Sub-Saharan Africa|South Africa|        Clothes|      Offline|             H| 7/17/2017|305048978| 8/14/2017|      9626|    109.28|    35.84|   1051929.28| 344995.84|   706933.44|\n",
      "|Sub-Saharan Africa|South Africa|      Beverages|      Offline|             L| 9/14/2015|965685212| 10/1/2015|      6569|     47.45|    31.79|    311699.05| 208828.51|   102870.54|\n",
      "|Sub-Saharan Africa|South Africa|         Cereal|      Offline|             H|10/28/2011|354274594|10/28/2011|      6580|     205.7|   117.11|    1353506.0|  770583.8|    582922.2|\n",
      "|Sub-Saharan Africa|South Africa|      Household|      Offline|             H| 1/27/2015|921660077| 2/15/2015|      8553|    668.27|   502.54|   5715713.31|4298224.62|  1417488.69|\n",
      "|Sub-Saharan Africa|South Africa|      Household|      Offline|             M| 3/27/2015|462633264|  4/8/2015|      2318|    668.27|   502.54|   1549049.86|1164887.72|   384162.14|\n",
      "|Sub-Saharan Africa|South Africa|      Cosmetics|       Online|             C| 7/25/2017|646401917|  8/6/2017|      3547|     437.2|   263.33|    1550748.4| 934031.51|   616716.89|\n",
      "|Sub-Saharan Africa|South Africa|      Baby Food|       Online|             L| 3/18/2015|296029889|  4/6/2015|       677|    255.28|   159.42|    172824.56| 107927.34|    64897.22|\n",
      "|Sub-Saharan Africa|South Africa|         Cereal|       Online|             C|12/24/2011|288434302|  2/1/2012|      2975|     205.7|   117.11|     611957.5| 348402.25|   263555.25|\n",
      "|Sub-Saharan Africa|South Africa|         Fruits|       Online|             C| 5/22/2013|944898736|  6/2/2013|      5389|      9.33|     6.92|     50279.37|  37291.88|    12987.49|\n",
      "|Sub-Saharan Africa|South Africa|Office Supplies|      Offline|             L| 2/14/2017|619386279|  3/9/2017|      9019|    651.21|   524.96|   5873262.99|4734614.24|  1138648.75|\n",
      "|Sub-Saharan Africa|South Africa|  Personal Care|       Online|             C|  8/6/2015|445722472| 8/27/2015|      8039|     81.73|    56.67|    657027.47| 455570.13|   201457.34|\n",
      "|Sub-Saharan Africa|South Africa|  Personal Care|      Offline|             L| 8/25/2012|443608033| 9/16/2012|      2330|     81.73|    56.67|     190430.9|  132041.1|     58389.8|\n",
      "|Sub-Saharan Africa|South Africa|         Cereal|      Offline|             H| 8/22/2014|941953027| 9/29/2014|      3688|     205.7|   117.11|     758621.6| 431901.68|   326719.92|\n",
      "|Sub-Saharan Africa|South Africa|         Fruits|       Online|             H| 2/20/2016|726955306|  4/6/2016|      1084|      9.33|     6.92|     10113.72|   7501.28|     2612.44|\n",
      "|Sub-Saharan Africa|South Africa|         Fruits|       Online|             L| 7/23/2013|929988229| 7/29/2013|      3038|      9.33|     6.92|     28344.54|  21022.96|     7321.58|\n",
      "|Sub-Saharan Africa|South Africa|      Beverages|      Offline|             L| 8/11/2014|596978890| 8/15/2014|      8175|     47.45|    31.79|    387903.75| 259883.25|    128020.5|\n",
      "|Sub-Saharan Africa|South Africa|      Cosmetics|       Online|             H|  9/1/2011|135359561|  9/9/2011|      4757|     437.2|   263.33|    2079760.4|1252660.81|   827099.59|\n",
      "+------------------+------------+---------------+-------------+--------------+----------+---------+----------+----------+----------+---------+-------------+----------+------------+\n",
      "only showing top 20 rows\n",
      "\n"
     ]
    }
   ],
   "source": [
    "#using filter function to find the sales of particular Country\n",
    "i=input(\"Enter the Country:\")\n",
    "df.filter(df.Country==i).show()"
   ]
  },
  {
   "cell_type": "code",
   "execution_count": 10,
   "metadata": {},
   "outputs": [
    {
     "name": "stdout",
     "output_type": "stream",
     "text": [
      "Enter Column Name:Country\n",
      "Enter Value:India\n",
      "+------+-------+-------------+-------------+--------------+----------+---------+----------+----------+----------+---------+-------------+----------+------------+\n",
      "|Region|Country|    Item Type|Sales Channel|Order Priority|Order Date| Order ID| Ship Date|Units Sold|Unit Price|Unit Cost|Total Revenue|Total Cost|Total Profit|\n",
      "+------+-------+-------------+-------------+--------------+----------+---------+----------+----------+----------+---------+-------------+----------+------------+\n",
      "|  Asia|  India|       Snacks|       Online|             L|10/10/2012|440306556|11/20/2012|      5349|    152.58|    97.44|    816150.42| 521206.56|   294943.86|\n",
      "|  Asia|  India|Personal Care|      Offline|             H|  3/5/2010|829856431| 4/15/2010|      1814|     81.73|    56.67|    148258.22| 102799.38|    45458.84|\n",
      "|  Asia|  India|         Meat|      Offline|             C| 2/18/2010|631333053| 3/24/2010|      4335|    421.89|   364.69|   1828893.15|1580931.15|    247962.0|\n",
      "|  Asia|  India|   Vegetables|      Offline|             H| 2/27/2011|369167077|  4/4/2011|      3597|    154.06|    90.93|    554153.82| 327075.21|   227078.61|\n",
      "|  Asia|  India|    Baby Food|      Offline|             H|  8/1/2014|156325423| 8/29/2014|      9021|    255.28|   159.42|   2302880.88|1438127.82|   864753.06|\n",
      "|  Asia|  India|       Snacks|       Online|             M| 3/17/2016|802643382|  4/2/2016|      8868|    152.58|    97.44|   1353079.44| 864097.92|   488981.52|\n",
      "|  Asia|  India|    Baby Food|      Offline|             M|  1/2/2013|327396714| 2/11/2013|      2818|    255.28|   159.42|    719379.04| 449245.56|   270133.48|\n",
      "|  Asia|  India|    Cosmetics|       Online|             M| 3/17/2015|965667188|  5/3/2015|      1235|     437.2|   263.33|     539942.0| 325212.55|   214729.45|\n",
      "|  Asia|  India|         Meat|      Offline|             C|  4/6/2016|723653829| 4/20/2016|      4104|    421.89|   364.69|   1731436.56|1496687.76|    234748.8|\n",
      "|  Asia|  India|       Snacks|       Online|             H|  2/3/2010|476497066| 3/13/2010|      4925|    152.58|    97.44|     751456.5|  479892.0|    271564.5|\n",
      "|  Asia|  India|    Beverages|       Online|             M|10/29/2016|577301776| 11/2/2016|      5279|     47.45|    31.79|    250488.55| 167819.41|    82669.14|\n",
      "|  Asia|  India|    Cosmetics|       Online|             H| 3/29/2011|635151660| 4/15/2011|      4346|     437.2|   263.33|    1900071.2|1144432.18|   755639.02|\n",
      "|  Asia|  India|    Household|       Online|             M| 2/26/2017|278114020|  4/2/2017|      8974|    668.27|   502.54|   5997054.98|4509793.96|  1487261.02|\n",
      "|  Asia|  India|         Meat|       Online|             H|  1/8/2011|951109874|  2/2/2011|      3402|    421.89|   364.69|   1435269.78|1240675.38|    194594.4|\n",
      "|  Asia|  India|    Cosmetics|       Online|             H| 9/18/2010|889031112| 10/1/2010|      2917|     437.2|   263.33|    1275312.4| 768133.61|   507178.79|\n",
      "|  Asia|  India|       Fruits|      Offline|             L| 10/5/2010|409612643|10/26/2010|      2338|      9.33|     6.92|     21813.54|  16178.96|     5634.58|\n",
      "|  Asia|  India|       Fruits|      Offline|             H|12/22/2014|397013986| 2/10/2015|      4116|      9.33|     6.92|     38402.28|  28482.72|     9919.56|\n",
      "|  Asia|  India|    Baby Food|       Online|             H| 1/28/2010|313514888| 3/13/2010|      4877|    255.28|   159.42|   1245000.56| 777491.34|   467509.22|\n",
      "|  Asia|  India|       Snacks|      Offline|             L| 5/30/2017|597553098|  7/7/2017|      8095|    152.58|    97.44|    1235135.1|  788776.8|    446358.3|\n",
      "|  Asia|  India|    Cosmetics|       Online|             L| 5/31/2011|335485827|  6/6/2011|      6566|     437.2|   263.33|    2870655.2|1729024.78|  1141630.42|\n",
      "+------+-------+-------------+-------------+--------------+----------+---------+----------+----------+----------+---------+-------------+----------+------------+\n",
      "only showing top 20 rows\n",
      "\n"
     ]
    }
   ],
   "source": [
    "#generalizing the filter function to user given column name and value.\n",
    "d=input(\"Enter Column Name:\")\n",
    "i=input(\"Enter Value:\")\n",
    "df.filter(df[d]==i).show()"
   ]
  },
  {
   "cell_type": "code",
   "execution_count": 11,
   "metadata": {},
   "outputs": [
    {
     "name": "stdout",
     "output_type": "stream",
     "text": [
      "Enter C1:Unit Price\n",
      "Enter C2:Unit Cost\n",
      "Covariance: 37567.56828820225\n",
      "Correlation: 0.9860397737591339\n"
     ]
    }
   ],
   "source": [
    "#finding covariance and correlation between two columns\n",
    "a=input(\"Enter C1:\")\n",
    "b=input(\"Enter C2:\")\n",
    "print(\"Covariance:\",df.cov(a,b))\n",
    "print(\"Correlation:\",df.corr(a,b))"
   ]
  },
  {
   "cell_type": "code",
   "execution_count": 12,
   "metadata": {},
   "outputs": [
    {
     "data": {
      "text/plain": [
       "PythonRDD[52] at RDD at PythonRDD.scala:53"
      ]
     },
     "execution_count": 12,
     "metadata": {},
     "output_type": "execute_result"
    }
   ],
   "source": [
    "#crearing RDD for the csv file\n",
    "data = sc.textFile(\"salesrecord.csv\")\n",
    "data = data.map(lambda line: line.split(\",\"))\n",
    "data"
   ]
  },
  {
   "cell_type": "code",
   "execution_count": 4,
   "metadata": {},
   "outputs": [],
   "source": [
    "import os\n",
    "import findspark\n",
    "findspark.init()\n",
    "import pyspark\n",
    "from pyspark.sql.functions import *\n",
    "from pyspark.context import SparkContext\n",
    "from pyspark.sql.session import SparkSession\n",
    "\n",
    "sc = SparkContext.getOrCreate()\n",
    "spark = SparkSession(sc)\n",
    "\n",
    "def convert_to_df(path):\n",
    "    df=spark.read.format(\"csv\").option(\"header\",\"true\").option(\"inferSchema\",\"true\").load(path)\n",
    "    return df\n",
    "    \n",
    "def data_cleaning_replace(df): \n",
    "\n",
    "    for i in df.dtypes:\n",
    "        if i[1] == 'string':\n",
    "            c= df.groupBy(i[0]).count().sort(desc(\"count\")).distinct() #pyspark sql has sql like function, so the logic to find the most frequent value is to display count of every distinct value in the column in descending order, and the 1st value will be most frequent one n it should be not null \n",
    "        \n",
    "            df=df.fillna({i[0]:c.where(col(i[0]).isNotNull()).collect()[0][0]})\n",
    "\n",
    "        elif i[1] == 'float' or i[1] =='int' or i[1]=='double':\n",
    "    \n",
    "            df=df.fillna({i[0]:df.select(i[0]).agg(avg(i[0])).collect()[0][0]}) #this function finds mean of int and float columns and fills empty cells with it \n",
    "        \n",
    "    return df\n"
   ]
  },
  {
   "cell_type": "code",
   "execution_count": 5,
   "metadata": {},
   "outputs": [],
   "source": [
    "path= r'salesrecord.csv'"
   ]
  },
  {
   "cell_type": "code",
   "execution_count": 6,
   "metadata": {},
   "outputs": [],
   "source": [
    "df =  convert_to_df(path)\n"
   ]
  },
  {
   "cell_type": "code",
   "execution_count": 7,
   "metadata": {},
   "outputs": [
    {
     "data": {
      "text/plain": [
       "DataFrame[Region: string, Country: string, Item Type: string, Sales Channel: string, Order Priority: string, Order Date: string, Order ID: int, Ship Date: string, Units Sold: int, Unit Price: double, Unit Cost: double, Total Revenue: double, Total Cost: double, Total Profit: double]"
      ]
     },
     "execution_count": 7,
     "metadata": {},
     "output_type": "execute_result"
    }
   ],
   "source": [
    "df"
   ]
  },
  {
   "cell_type": "code",
   "execution_count": 7,
   "metadata": {},
   "outputs": [],
   "source": [
    "df = data_cleaning_replace(df)"
   ]
  },
  {
   "cell_type": "code",
   "execution_count": 8,
   "metadata": {},
   "outputs": [
    {
     "data": {
      "text/plain": [
       "DataFrame[Region: string, Country: string, Item Type: string, Sales Channel: string, Order Priority: string, Order Date: string, Order ID: int, Ship Date: string, Units Sold: int, Unit Price: double, Unit Cost: double, Total Revenue: double, Total Cost: double, Total Profit: double]"
      ]
     },
     "execution_count": 8,
     "metadata": {},
     "output_type": "execute_result"
    }
   ],
   "source": [
    "df"
   ]
  },
  {
   "cell_type": "code",
   "execution_count": 1,
   "metadata": {},
   "outputs": [
    {
     "ename": "NameError",
     "evalue": "name 'df' is not defined",
     "output_type": "error",
     "traceback": [
      "\u001b[1;31m---------------------------------------------------------------------------\u001b[0m",
      "\u001b[1;31mNameError\u001b[0m                                 Traceback (most recent call last)",
      "\u001b[1;32m<ipython-input-1-00cf07b74dcd>\u001b[0m in \u001b[0;36m<module>\u001b[1;34m()\u001b[0m\n\u001b[1;32m----> 1\u001b[1;33m \u001b[0mdf\u001b[0m\u001b[1;33m\u001b[0m\u001b[0m\n\u001b[0m",
      "\u001b[1;31mNameError\u001b[0m: name 'df' is not defined"
     ]
    }
   ],
   "source": []
  },
  {
   "cell_type": "code",
   "execution_count": null,
   "metadata": {},
   "outputs": [],
   "source": []
  }
 ],
 "metadata": {
  "kernelspec": {
   "display_name": "Python 3",
   "language": "python",
   "name": "python3"
  },
  "language_info": {
   "codemirror_mode": {
    "name": "ipython",
    "version": 3
   },
   "file_extension": ".py",
   "mimetype": "text/x-python",
   "name": "python",
   "nbconvert_exporter": "python",
   "pygments_lexer": "ipython3",
   "version": "3.6.6"
  }
 },
 "nbformat": 4,
 "nbformat_minor": 2
}
